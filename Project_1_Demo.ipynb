{
  "nbformat": 4,
  "nbformat_minor": 0,
  "metadata": {
    "colab": {
      "provenance": [],
      "collapsed_sections": []
    },
    "kernelspec": {
      "name": "python3",
      "display_name": "Python 3"
    },
    "language_info": {
      "name": "python"
    }
  },
  "cells": [
    {
      "cell_type": "markdown",
      "source": [
        "##Python Review"
      ],
      "metadata": {
        "id": "4M23W0gZLAEu"
      }
    },
    {
      "cell_type": "code",
      "source": [
        "#Google Colab is a interactive notebook where you can write Code in Python\n",
        "# In order to run a cell in colab, click the play arrow to execute a block of code!\n",
        "print(\"Howdy!\")"
      ],
      "metadata": {
        "id": "Tb1SUyPg0YnY"
      },
      "execution_count": null,
      "outputs": []
    },
    {
      "cell_type": "code",
      "source": [
        "#Part 1: Data Types\n",
        "\n",
        "#We can represent data in a variety of ways, and we can store these data points in \"variables\"\n",
        "\n",
        "x = 1                     #here \"x\" is the variable name (which can be named whatever you'd like) and 1 is an INTEGER (int) data type (which is just a whole number)\n",
        "\n",
        "name = \"tidaltamu\"        #here \"name\" is the variable name and \"tidaltamu\" is a STRING (str) data type (which is just text with single or double quotes around it)\n",
        "\n",
        "price = 12.99             #12.99 is a FLOATING POINT NUMBER (float) data type (which is just a number with a decimal point)\n",
        "\n",
        "tidaltamu_is_cool = True  #True is a BOOLEAN (bool) data type (which is just True and False statements)\n",
        "\n",
        "#you can check the type of a variable by using type()\n",
        "print(type(name), type(price)) #this will print str for string and float for float"
      ],
      "metadata": {
        "colab": {
          "base_uri": "https://localhost:8080/"
        },
        "id": "B6hyjPEyLrDf",
        "outputId": "bcf0c094-7d8c-4ec1-cb74-873d676f722b"
      },
      "execution_count": 4,
      "outputs": [
        {
          "output_type": "stream",
          "name": "stdout",
          "text": [
            "<class 'str'> <class 'float'>\n"
          ]
        }
      ]
    },
    {
      "cell_type": "code",
      "source": [
        "#Part 2: Data Structures\n",
        "\n",
        "#We can also represent a lot of data in one place, \n",
        "\n",
        "prices = [12.99, 11.99, 2.99, \"12.00\", 1, 20.99] #We can see here that we can have a list of multiple types of data (which is a really nice thing about Python)\n",
        "\n",
        "#however if we only want a list of floating point numbers we have to make some changes\n",
        "\n",
        "#we can ITERATE over a list using a FOR LOOP like this...\n",
        "\n",
        "for i in range(len(prices)):\n",
        "  print(i, prices[i])\n",
        "\n",
        "#you can see i starts at 0 and goes to 5. If you say prices[0], thatll reference the first element, prices[1] references the second etc."
      ],
      "metadata": {
        "colab": {
          "base_uri": "https://localhost:8080/"
        },
        "id": "hiTeDLMUM2e6",
        "outputId": "e6384f66-f29c-457a-c5df-82e9d66bdbfe"
      },
      "execution_count": 7,
      "outputs": [
        {
          "output_type": "stream",
          "name": "stdout",
          "text": [
            "0 12.99\n",
            "1 11.99\n",
            "2 2.99\n",
            "3 12.00\n",
            "4 1\n",
            "5 20.99\n"
          ]
        }
      ]
    },
    {
      "cell_type": "code",
      "source": [
        "#We don't want 1 and \"12.00\" is the wrong data type (first one is a int the second is a string)... So lets make some changes\n",
        "\n",
        "#We will use an IF statement which will execute a code segment underneath it if the statement in the paraenthesis is true\n",
        "\n",
        "for i in range(len(prices)):\n",
        "\n",
        "  if (type(prices[i]) != float): #In english, if the type at index i of the list prices is not a float...\n",
        "    prices[i] = float(prices[i])  #this is called CASTING, in some instances we can convert one data type to another, so the \"12.00\" should become 12.0 and the 1 should become 1.0\n",
        "    \n",
        "\n",
        "\n",
        "#Now lets print each element in the list along with its data type...\n",
        "for i in range(len(prices)):\n",
        "  print(prices[i], type(prices[i]))\n"
      ],
      "metadata": {
        "colab": {
          "base_uri": "https://localhost:8080/"
        },
        "id": "mYatQcZdOdB7",
        "outputId": "5619e4ec-d35c-4dc3-f29a-1b4cd918a9c1"
      },
      "execution_count": 8,
      "outputs": [
        {
          "output_type": "stream",
          "name": "stdout",
          "text": [
            "12.99 <class 'float'>\n",
            "11.99 <class 'float'>\n",
            "2.99 <class 'float'>\n",
            "12.0 <class 'float'>\n",
            "1.0 <class 'float'>\n",
            "20.99 <class 'float'>\n"
          ]
        }
      ]
    },
    {
      "cell_type": "markdown",
      "source": [
        "##Intro to Pandas"
      ],
      "metadata": {
        "id": "bQvp9JZ9LGIM"
      }
    },
    {
      "cell_type": "code",
      "execution_count": 1,
      "metadata": {
        "colab": {
          "base_uri": "https://localhost:8080/",
          "height": 363
        },
        "id": "AVoREdhRXuw-",
        "outputId": "f8897383-e07e-49de-f30a-aee7d4e370ed"
      },
      "outputs": [
        {
          "output_type": "execute_result",
          "data": {
            "text/plain": [
              "           Name Bench Max  tidaltamu Member\n",
              "0        Raiyan      1000              True\n",
              "1        Conrad      1000              True\n",
              "2        Conrad      1000              True\n",
              "3          None      1000              True\n",
              "4         Haris      1000              True\n",
              "5          John       200             False\n",
              "6        Joanna       100             False\n",
              "7  t.u. Student       0.5             False\n",
              "8      Person A       120             False\n",
              "9      Person B     howdy             False"
            ],
            "text/html": [
              "\n",
              "  <div id=\"df-8a83378f-38b6-43c3-8614-4c8e24a64fcb\">\n",
              "    <div class=\"colab-df-container\">\n",
              "      <div>\n",
              "<style scoped>\n",
              "    .dataframe tbody tr th:only-of-type {\n",
              "        vertical-align: middle;\n",
              "    }\n",
              "\n",
              "    .dataframe tbody tr th {\n",
              "        vertical-align: top;\n",
              "    }\n",
              "\n",
              "    .dataframe thead th {\n",
              "        text-align: right;\n",
              "    }\n",
              "</style>\n",
              "<table border=\"1\" class=\"dataframe\">\n",
              "  <thead>\n",
              "    <tr style=\"text-align: right;\">\n",
              "      <th></th>\n",
              "      <th>Name</th>\n",
              "      <th>Bench Max</th>\n",
              "      <th>tidaltamu Member</th>\n",
              "    </tr>\n",
              "  </thead>\n",
              "  <tbody>\n",
              "    <tr>\n",
              "      <th>0</th>\n",
              "      <td>Raiyan</td>\n",
              "      <td>1000</td>\n",
              "      <td>True</td>\n",
              "    </tr>\n",
              "    <tr>\n",
              "      <th>1</th>\n",
              "      <td>Conrad</td>\n",
              "      <td>1000</td>\n",
              "      <td>True</td>\n",
              "    </tr>\n",
              "    <tr>\n",
              "      <th>2</th>\n",
              "      <td>Conrad</td>\n",
              "      <td>1000</td>\n",
              "      <td>True</td>\n",
              "    </tr>\n",
              "    <tr>\n",
              "      <th>3</th>\n",
              "      <td>None</td>\n",
              "      <td>1000</td>\n",
              "      <td>True</td>\n",
              "    </tr>\n",
              "    <tr>\n",
              "      <th>4</th>\n",
              "      <td>Haris</td>\n",
              "      <td>1000</td>\n",
              "      <td>True</td>\n",
              "    </tr>\n",
              "    <tr>\n",
              "      <th>5</th>\n",
              "      <td>John</td>\n",
              "      <td>200</td>\n",
              "      <td>False</td>\n",
              "    </tr>\n",
              "    <tr>\n",
              "      <th>6</th>\n",
              "      <td>Joanna</td>\n",
              "      <td>100</td>\n",
              "      <td>False</td>\n",
              "    </tr>\n",
              "    <tr>\n",
              "      <th>7</th>\n",
              "      <td>t.u. Student</td>\n",
              "      <td>0.5</td>\n",
              "      <td>False</td>\n",
              "    </tr>\n",
              "    <tr>\n",
              "      <th>8</th>\n",
              "      <td>Person A</td>\n",
              "      <td>120</td>\n",
              "      <td>False</td>\n",
              "    </tr>\n",
              "    <tr>\n",
              "      <th>9</th>\n",
              "      <td>Person B</td>\n",
              "      <td>howdy</td>\n",
              "      <td>False</td>\n",
              "    </tr>\n",
              "  </tbody>\n",
              "</table>\n",
              "</div>\n",
              "      <button class=\"colab-df-convert\" onclick=\"convertToInteractive('df-8a83378f-38b6-43c3-8614-4c8e24a64fcb')\"\n",
              "              title=\"Convert this dataframe to an interactive table.\"\n",
              "              style=\"display:none;\">\n",
              "        \n",
              "  <svg xmlns=\"http://www.w3.org/2000/svg\" height=\"24px\"viewBox=\"0 0 24 24\"\n",
              "       width=\"24px\">\n",
              "    <path d=\"M0 0h24v24H0V0z\" fill=\"none\"/>\n",
              "    <path d=\"M18.56 5.44l.94 2.06.94-2.06 2.06-.94-2.06-.94-.94-2.06-.94 2.06-2.06.94zm-11 1L8.5 8.5l.94-2.06 2.06-.94-2.06-.94L8.5 2.5l-.94 2.06-2.06.94zm10 10l.94 2.06.94-2.06 2.06-.94-2.06-.94-.94-2.06-.94 2.06-2.06.94z\"/><path d=\"M17.41 7.96l-1.37-1.37c-.4-.4-.92-.59-1.43-.59-.52 0-1.04.2-1.43.59L10.3 9.45l-7.72 7.72c-.78.78-.78 2.05 0 2.83L4 21.41c.39.39.9.59 1.41.59.51 0 1.02-.2 1.41-.59l7.78-7.78 2.81-2.81c.8-.78.8-2.07 0-2.86zM5.41 20L4 18.59l7.72-7.72 1.47 1.35L5.41 20z\"/>\n",
              "  </svg>\n",
              "      </button>\n",
              "      \n",
              "  <style>\n",
              "    .colab-df-container {\n",
              "      display:flex;\n",
              "      flex-wrap:wrap;\n",
              "      gap: 12px;\n",
              "    }\n",
              "\n",
              "    .colab-df-convert {\n",
              "      background-color: #E8F0FE;\n",
              "      border: none;\n",
              "      border-radius: 50%;\n",
              "      cursor: pointer;\n",
              "      display: none;\n",
              "      fill: #1967D2;\n",
              "      height: 32px;\n",
              "      padding: 0 0 0 0;\n",
              "      width: 32px;\n",
              "    }\n",
              "\n",
              "    .colab-df-convert:hover {\n",
              "      background-color: #E2EBFA;\n",
              "      box-shadow: 0px 1px 2px rgba(60, 64, 67, 0.3), 0px 1px 3px 1px rgba(60, 64, 67, 0.15);\n",
              "      fill: #174EA6;\n",
              "    }\n",
              "\n",
              "    [theme=dark] .colab-df-convert {\n",
              "      background-color: #3B4455;\n",
              "      fill: #D2E3FC;\n",
              "    }\n",
              "\n",
              "    [theme=dark] .colab-df-convert:hover {\n",
              "      background-color: #434B5C;\n",
              "      box-shadow: 0px 1px 3px 1px rgba(0, 0, 0, 0.15);\n",
              "      filter: drop-shadow(0px 1px 2px rgba(0, 0, 0, 0.3));\n",
              "      fill: #FFFFFF;\n",
              "    }\n",
              "  </style>\n",
              "\n",
              "      <script>\n",
              "        const buttonEl =\n",
              "          document.querySelector('#df-8a83378f-38b6-43c3-8614-4c8e24a64fcb button.colab-df-convert');\n",
              "        buttonEl.style.display =\n",
              "          google.colab.kernel.accessAllowed ? 'block' : 'none';\n",
              "\n",
              "        async function convertToInteractive(key) {\n",
              "          const element = document.querySelector('#df-8a83378f-38b6-43c3-8614-4c8e24a64fcb');\n",
              "          const dataTable =\n",
              "            await google.colab.kernel.invokeFunction('convertToInteractive',\n",
              "                                                     [key], {});\n",
              "          if (!dataTable) return;\n",
              "\n",
              "          const docLinkHtml = 'Like what you see? Visit the ' +\n",
              "            '<a target=\"_blank\" href=https://colab.research.google.com/notebooks/data_table.ipynb>data table notebook</a>'\n",
              "            + ' to learn more about interactive tables.';\n",
              "          element.innerHTML = '';\n",
              "          dataTable['output_type'] = 'display_data';\n",
              "          await google.colab.output.renderOutput(dataTable, element);\n",
              "          const docLink = document.createElement('div');\n",
              "          docLink.innerHTML = docLinkHtml;\n",
              "          element.appendChild(docLink);\n",
              "        }\n",
              "      </script>\n",
              "    </div>\n",
              "  </div>\n",
              "  "
            ]
          },
          "metadata": {},
          "execution_count": 1
        }
      ],
      "source": [
        "#lists are not the best choice when it comes to handling HUGE datasets. So we can IMPORT libraries and borrow other people's code and data structures...\n",
        "\n",
        "import pandas as pd #import the library pandas\n",
        "from numpy import nan\n",
        "\n",
        "df = pd.DataFrame({ \n",
        "    \"Name\" : [\"Raiyan\", \"Conrad\", \"Conrad\", None, \"Haris\", \"John\", \"Joanna\",\"t.u. Student\",\"Person A\", \"Person B\", \"Person C\", \"Person D\", \"Person E\", \"Person F\"],\n",
        "    \"Bench Max\" : [1000, 1000, 1000, 1000, 1000, 200, 100, 0.5, 120, \"howdy\", nan, 225, None,210],\n",
        "    \"tidaltamu Member\": [True, True, True, True, True, False, False, False,False, False, False, False, False, False]\n",
        "})\n",
        "\n",
        "#df is a DataFrame\n",
        "\n",
        "df.head(10) #view the first 10 rows of the data set"
      ]
    },
    {
      "cell_type": "code",
      "source": [
        "df.drop_duplicates(inplace=True) #removes duplicate entries \n",
        "\n",
        "df.dropna(inplace=True) #drop not a number values and None values\n",
        "\n",
        "df['Bench Max'].map(type) != str #removes any row "
      ],
      "metadata": {
        "colab": {
          "base_uri": "https://localhost:8080/"
        },
        "id": "wuNTAxl8aWC9",
        "outputId": "3948707d-cef8-4052-f4ce-304612abb14d"
      },
      "execution_count": null,
      "outputs": [
        {
          "output_type": "stream",
          "name": "stdout",
          "text": [
            "Average Bench Max 428.3888888888889\n",
            "Standard Deviation of the Bench Max 434.08983645221537\n",
            "Minimum Bench Max 0.5\n",
            "Maximum Bench Max 1000\n",
            "Q1 Bench Max 120.0\n",
            "Q2 Bench Max 210.0\n",
            "Q3 Bench Max 1000.0\n"
          ]
        }
      ]
    },
    {
      "cell_type": "code",
      "source": [
        "#prints the mean, standard deviation, and 5 number summary of the data is the \"Bench Max Column\"\n",
        "\n",
        "print(\"Average Bench Max\", df[\"Bench Max\"].mean())\n",
        "\n",
        "print(\"Standard Deviation of the Bench Max\", df[\"Bench Max\"].std())\n",
        "\n",
        "print(\"Minimum Bench Max\", df[\"Bench Max\"].min())\n",
        "\n",
        "print(\"Maximum Bench Max\", df[\"Bench Max\"].max())\n",
        "\n",
        "print(\"Q1 Bench Max\", df[\"Bench Max\"].quantile(.25))\n",
        "\n",
        "print(\"Q2 Bench Max\", df[\"Bench Max\"].median())\n",
        "\n",
        "print(\"Q3 Bench Max\", df[\"Bench Max\"].quantile(.75))"
      ],
      "metadata": {
        "id": "DT_4fTQSO9UD"
      },
      "execution_count": null,
      "outputs": []
    }
  ]
}